{
  "cells": [
    {
      "cell_type": "markdown",
      "metadata": {
        "id": "view-in-github",
        "colab_type": "text"
      },
      "source": [
        "<a href=\"https://colab.research.google.com/github/zhang8yiming/ML-DL/blob/main/L1_Homework_Reference.ipynb\" target=\"_parent\"><img src=\"https://colab.research.google.com/assets/colab-badge.svg\" alt=\"Open In Colab\"/></a>"
      ]
    },
    {
      "cell_type": "markdown",
      "metadata": {
        "id": "aKSy1qBUeUfl"
      },
      "source": [
        "# 用线性回归预测共享单车的需求\n",
        "\n",
        "## 作业内容\n",
        "\n",
        "在本次作业中，你将训练一个线性回归模型，预测未来的自行车租赁需求。\n",
        "\n",
        "## 数据集介绍\n",
        "\n",
        "本次使用的数据集来源于加利福尼亚大学欧文分校（UCI）大学的公开[数据集](https://archive.ics.uci.edu/ml/datasets/Bike+Sharing+Dataset)，\n",
        "\n",
        "关于本次数据集的各种信息可以参考该网站，同时也可以直接从该网站下载和使用数据集。不过这个共享单车数据集是固定桩形式，还是有别于我们常用的小蓝、小黄等单车，且数据集收集时间在2011-2012年,数据分为按日和按小时。\n",
        "\n",
        "细节描述如下：\n",
        "\n",
        "- instant：记录索引\n",
        "- dteday：日期\n",
        "- season：季节（1：春　2：夏　3：秋　4：冬）\n",
        "- yr：年份（0：2011，1：2012）\n",
        "- mnth：月份（1～12）\n",
        "- hr：小时（0～23）\n",
        "- holiday：是否是假期\n",
        "- weekday：工作日\n",
        "- workingday：如果既不是周末也不是假期则值为1，否则为0\n",
        "- weathersit：\n",
        "    1. 晴朗，云层很少，部分多云\n",
        "    2. 薄雾+多云，薄雾+短暂云，薄雾+少云，薄雾\n",
        "    3. 小雪，小雨+雷雨+散云，小雨+散云\n",
        "    4. 大雨+冰粒+雷暴+薄雾，雪+雾\n",
        "- temp：标准化温度（摄氏度）\n",
        "    计算公式：(t-t_min)/(t_max-t_min), t_min = -8, t_max = +39（仅在小时范围内）\n",
        "- atemp：标准化体表温度（摄氏度）\n",
        "    计算公式：(t-t_min)/(t_max-t_min), t_min = -16, t_max = +50 (仅在小时范围内)\n",
        "- hum：归一化湿度。值除以100（最大值）\n",
        "- windspeed：归一化风速。值除以67（最大值）\n",
        "- casual：临时用户数\n",
        "- registered：注册用户数\n",
        "- cnt：租赁自行车总数，包括临时用户和注册用户"
      ],
      "id": "aKSy1qBUeUfl"
    },
    {
      "cell_type": "markdown",
      "metadata": {
        "id": "5RvLnbA3eUfq"
      },
      "source": [
        "对应的原始英文描述：\n",
        "\n",
        "-   **instant:** Record index（记录号）\n",
        "-   **dteday:** Date（日期）\n",
        "-   **season:** Season (1:springer, 2:summer, 3:fall, 4:winter)（季节，分别为1234代替春夏秋冬）\n",
        "-   **yr:** Year (0: 2011, 1:2012)（年份，用01代替2011和2012）\n",
        "-   **mnth:** Month (1 to 12)（月份）\n",
        "-   **hr:** Hour (0 to 23)（时间）\n",
        "-   **holiday:** weather day is holiday or not (extracted from [Holiday Schedule](http://dchr.dc.gov/page/holiday-schedule))（是否为节假日）\n",
        "-   **weekday:** Day of the week（对应星期几）\n",
        "-   **workingday:** If day is neither weekend nor holiday is 1, otherwise is 0.（是否为工作日）\n",
        "-   **weathersit:** (extracted from [Freemeteo](http://www.freemeteo.com))（天气）\n",
        "-   1: Clear, Few clouds, Partly cloudy, Partly cloudy\n",
        "-   2: Mist + Cloudy, Mist + Broken clouds, Mist + Few clouds, Mist\n",
        "-   3: Light Snow, Light Rain + Thunderstorm + Scattered clouds, Light Rain + Scattered clouds\n",
        "-   4: Heavy Rain + Ice Pallets + Thunderstorm + Mist, Snow + Fog\n",
        "-   **temp:** Normalized temperature in Celsius. The values are derived via (t-t*min)/(t*max-t*min), t*min=-8, t_max=+39 (only in hourly scale)（气温）\n",
        "-   **atemp:** Normalized feeling temperature in Celsius. The values are derived via (t-t*min)/(t*max-t*min), t*min=-16, t_max=+50 (only in hourly scale)（体感温度）\n",
        "-   **hum:** Normalized humidity. The values are divided to 100 (max)（湿度）\n",
        "-   **windspeed:** Normalized wind speed. The values are divided to 67 (max)（风速）\n",
        "-   **casual:** count of casual users（非注册用户个数）\n",
        "-   **registered:** count of registered users（注册用户个数）\n",
        "-   **cnt:** count of total rental bikes including both casual and registered（给定日期（天）总租车人数）"
      ],
      "id": "5RvLnbA3eUfq"
    },
    {
      "cell_type": "code",
      "execution_count": null,
      "metadata": {
        "tags": [],
        "id": "tffGRLMfeUfr"
      },
      "outputs": [],
      "source": [
        "# 导入需要的包\n",
        "import numpy as np\n",
        "import pandas as pd\n",
        "\n",
        "# 读取数据\n",
        "dataset = pd.read_csv('bike-day.csv')\n",
        "dataset = dataset.drop(['casual', 'registered'], axis=1)\n",
        "# 去除了casual 和 registered 特征，因为这些特征无法帮助我们从单个用户的角度来模拟需求"
      ],
      "id": "tffGRLMfeUfr"
    },
    {
      "cell_type": "markdown",
      "metadata": {
        "id": "PWQSgpdSeUfs"
      },
      "source": [
        "Python Pandas库中的head()函数提供了查看数据集中前面几行的功能。"
      ],
      "id": "PWQSgpdSeUfs"
    },
    {
      "cell_type": "code",
      "execution_count": null,
      "metadata": {
        "tags": [],
        "id": "V7yqGNDHeUfs",
        "outputId": "d268bca7-892b-403a-84ee-e3a49d24cf4e"
      },
      "outputs": [
        {
          "data": {
            "text/html": [
              "<div>\n",
              "<style scoped>\n",
              "    .dataframe tbody tr th:only-of-type {\n",
              "        vertical-align: middle;\n",
              "    }\n",
              "\n",
              "    .dataframe tbody tr th {\n",
              "        vertical-align: top;\n",
              "    }\n",
              "\n",
              "    .dataframe thead th {\n",
              "        text-align: right;\n",
              "    }\n",
              "</style>\n",
              "<table border=\"1\" class=\"dataframe\">\n",
              "  <thead>\n",
              "    <tr style=\"text-align: right;\">\n",
              "      <th></th>\n",
              "      <th>instant</th>\n",
              "      <th>dteday</th>\n",
              "      <th>season</th>\n",
              "      <th>yr</th>\n",
              "      <th>mnth</th>\n",
              "      <th>holiday</th>\n",
              "      <th>weekday</th>\n",
              "      <th>workingday</th>\n",
              "      <th>weathersit</th>\n",
              "      <th>temp</th>\n",
              "      <th>atemp</th>\n",
              "      <th>hum</th>\n",
              "      <th>windspeed</th>\n",
              "      <th>cnt</th>\n",
              "    </tr>\n",
              "  </thead>\n",
              "  <tbody>\n",
              "    <tr>\n",
              "      <th>0</th>\n",
              "      <td>1</td>\n",
              "      <td>2011-01-01</td>\n",
              "      <td>1</td>\n",
              "      <td>0</td>\n",
              "      <td>1</td>\n",
              "      <td>0</td>\n",
              "      <td>6</td>\n",
              "      <td>0</td>\n",
              "      <td>2</td>\n",
              "      <td>0.344167</td>\n",
              "      <td>0.363625</td>\n",
              "      <td>0.805833</td>\n",
              "      <td>0.160446</td>\n",
              "      <td>985</td>\n",
              "    </tr>\n",
              "    <tr>\n",
              "      <th>1</th>\n",
              "      <td>2</td>\n",
              "      <td>2011-01-02</td>\n",
              "      <td>1</td>\n",
              "      <td>0</td>\n",
              "      <td>1</td>\n",
              "      <td>0</td>\n",
              "      <td>0</td>\n",
              "      <td>0</td>\n",
              "      <td>2</td>\n",
              "      <td>0.363478</td>\n",
              "      <td>0.353739</td>\n",
              "      <td>0.696087</td>\n",
              "      <td>0.248539</td>\n",
              "      <td>801</td>\n",
              "    </tr>\n",
              "    <tr>\n",
              "      <th>2</th>\n",
              "      <td>3</td>\n",
              "      <td>2011-01-03</td>\n",
              "      <td>1</td>\n",
              "      <td>0</td>\n",
              "      <td>1</td>\n",
              "      <td>0</td>\n",
              "      <td>1</td>\n",
              "      <td>1</td>\n",
              "      <td>1</td>\n",
              "      <td>0.196364</td>\n",
              "      <td>0.189405</td>\n",
              "      <td>0.437273</td>\n",
              "      <td>0.248309</td>\n",
              "      <td>1349</td>\n",
              "    </tr>\n",
              "    <tr>\n",
              "      <th>3</th>\n",
              "      <td>4</td>\n",
              "      <td>2011-01-04</td>\n",
              "      <td>1</td>\n",
              "      <td>0</td>\n",
              "      <td>1</td>\n",
              "      <td>0</td>\n",
              "      <td>2</td>\n",
              "      <td>1</td>\n",
              "      <td>1</td>\n",
              "      <td>0.200000</td>\n",
              "      <td>0.212122</td>\n",
              "      <td>0.590435</td>\n",
              "      <td>0.160296</td>\n",
              "      <td>1562</td>\n",
              "    </tr>\n",
              "    <tr>\n",
              "      <th>4</th>\n",
              "      <td>5</td>\n",
              "      <td>2011-01-05</td>\n",
              "      <td>1</td>\n",
              "      <td>0</td>\n",
              "      <td>1</td>\n",
              "      <td>0</td>\n",
              "      <td>3</td>\n",
              "      <td>1</td>\n",
              "      <td>1</td>\n",
              "      <td>0.226957</td>\n",
              "      <td>0.229270</td>\n",
              "      <td>0.436957</td>\n",
              "      <td>0.186900</td>\n",
              "      <td>1600</td>\n",
              "    </tr>\n",
              "  </tbody>\n",
              "</table>\n",
              "</div>"
            ],
            "text/plain": [
              "   instant      dteday  season  yr  mnth  holiday  weekday  workingday  \\\n",
              "0        1  2011-01-01       1   0     1        0        6           0   \n",
              "1        2  2011-01-02       1   0     1        0        0           0   \n",
              "2        3  2011-01-03       1   0     1        0        1           1   \n",
              "3        4  2011-01-04       1   0     1        0        2           1   \n",
              "4        5  2011-01-05       1   0     1        0        3           1   \n",
              "\n",
              "   weathersit      temp     atemp       hum  windspeed   cnt  \n",
              "0           2  0.344167  0.363625  0.805833   0.160446   985  \n",
              "1           2  0.363478  0.353739  0.696087   0.248539   801  \n",
              "2           1  0.196364  0.189405  0.437273   0.248309  1349  \n",
              "3           1  0.200000  0.212122  0.590435   0.160296  1562  \n",
              "4           1  0.226957  0.229270  0.436957   0.186900  1600  "
            ]
          },
          "execution_count": 2,
          "metadata": {},
          "output_type": "execute_result"
        }
      ],
      "source": [
        "dataset.head()"
      ],
      "id": "V7yqGNDHeUfs"
    },
    {
      "cell_type": "markdown",
      "metadata": {
        "id": "WDWJ8PqneUft"
      },
      "source": [
        "使用head()函数，我们会看到数据集中有日期格式、整数格式和浮点数格式的数据。另外，还能看到一些冗余的特征，如date（dteday）已经通过season、yr、mnth、hr等进行了分类。因此，数据集的dteday特征是可以抛弃不用的（虽然我们会暂时保留它以满足对数据集的探索需求）。"
      ],
      "id": "WDWJ8PqneUft"
    },
    {
      "cell_type": "markdown",
      "metadata": {
        "id": "jv050tRseUft"
      },
      "source": [
        "Pandas Python库中的 info() 函数也是查看数据集所包含的数据类型、数量和空值的好方法。"
      ],
      "id": "jv050tRseUft"
    },
    {
      "cell_type": "code",
      "execution_count": null,
      "metadata": {
        "execution": {
          "iopub.execute_input": "2022-08-17T07:40:50.347737Z",
          "iopub.status.busy": "2022-08-17T07:40:50.347530Z",
          "iopub.status.idle": "2022-08-17T07:40:50.417329Z",
          "shell.execute_reply": "2022-08-17T07:40:50.416614Z",
          "shell.execute_reply.started": "2022-08-17T07:40:50.347715Z"
        },
        "tags": [],
        "id": "u2RHMg_qeUfu",
        "outputId": "124e6232-1098-48e0-e8e1-8218c97bea7c"
      },
      "outputs": [
        {
          "name": "stdout",
          "output_type": "stream",
          "text": [
            "<class 'pandas.core.frame.DataFrame'>\n",
            "RangeIndex: 731 entries, 0 to 730\n",
            "Data columns (total 14 columns):\n",
            " #   Column      Non-Null Count  Dtype  \n",
            "---  ------      --------------  -----  \n",
            " 0   instant     731 non-null    int64  \n",
            " 1   dteday      731 non-null    object \n",
            " 2   season      731 non-null    int64  \n",
            " 3   yr          731 non-null    int64  \n",
            " 4   mnth        731 non-null    int64  \n",
            " 5   holiday     731 non-null    int64  \n",
            " 6   weekday     731 non-null    int64  \n",
            " 7   workingday  731 non-null    int64  \n",
            " 8   weathersit  731 non-null    int64  \n",
            " 9   temp        731 non-null    float64\n",
            " 10  atemp       731 non-null    float64\n",
            " 11  hum         731 non-null    float64\n",
            " 12  windspeed   731 non-null    float64\n",
            " 13  cnt         731 non-null    int64  \n",
            "dtypes: float64(4), int64(9), object(1)\n",
            "memory usage: 80.1+ KB\n"
          ]
        }
      ],
      "source": [
        "dataset.info()"
      ],
      "id": "u2RHMg_qeUfu"
    },
    {
      "cell_type": "code",
      "execution_count": null,
      "metadata": {
        "id": "DzuvjokReUfu",
        "outputId": "6f973170-a33e-4f36-f554-f591104230d1"
      },
      "outputs": [
        {
          "data": {
            "text/html": [
              "<div>\n",
              "<style scoped>\n",
              "    .dataframe tbody tr th:only-of-type {\n",
              "        vertical-align: middle;\n",
              "    }\n",
              "\n",
              "    .dataframe tbody tr th {\n",
              "        vertical-align: top;\n",
              "    }\n",
              "\n",
              "    .dataframe thead th {\n",
              "        text-align: right;\n",
              "    }\n",
              "</style>\n",
              "<table border=\"1\" class=\"dataframe\">\n",
              "  <thead>\n",
              "    <tr style=\"text-align: right;\">\n",
              "      <th></th>\n",
              "      <th>instant</th>\n",
              "      <th>dteday</th>\n",
              "      <th>season</th>\n",
              "      <th>yr</th>\n",
              "      <th>mnth</th>\n",
              "      <th>holiday</th>\n",
              "      <th>weekday</th>\n",
              "      <th>workingday</th>\n",
              "      <th>weathersit</th>\n",
              "      <th>temp</th>\n",
              "      <th>atemp</th>\n",
              "      <th>hum</th>\n",
              "      <th>windspeed</th>\n",
              "      <th>cnt</th>\n",
              "    </tr>\n",
              "  </thead>\n",
              "  <tbody>\n",
              "    <tr>\n",
              "      <th>0</th>\n",
              "      <td>1</td>\n",
              "      <td>2011-01-01</td>\n",
              "      <td>1</td>\n",
              "      <td>0</td>\n",
              "      <td>1</td>\n",
              "      <td>0</td>\n",
              "      <td>6</td>\n",
              "      <td>0</td>\n",
              "      <td>2</td>\n",
              "      <td>0.344167</td>\n",
              "      <td>0.363625</td>\n",
              "      <td>0.805833</td>\n",
              "      <td>0.160446</td>\n",
              "      <td>985</td>\n",
              "    </tr>\n",
              "    <tr>\n",
              "      <th>1</th>\n",
              "      <td>2</td>\n",
              "      <td>2011-01-02</td>\n",
              "      <td>1</td>\n",
              "      <td>0</td>\n",
              "      <td>1</td>\n",
              "      <td>0</td>\n",
              "      <td>0</td>\n",
              "      <td>0</td>\n",
              "      <td>2</td>\n",
              "      <td>0.363478</td>\n",
              "      <td>0.353739</td>\n",
              "      <td>0.696087</td>\n",
              "      <td>0.248539</td>\n",
              "      <td>801</td>\n",
              "    </tr>\n",
              "    <tr>\n",
              "      <th>2</th>\n",
              "      <td>3</td>\n",
              "      <td>2011-01-03</td>\n",
              "      <td>1</td>\n",
              "      <td>0</td>\n",
              "      <td>1</td>\n",
              "      <td>0</td>\n",
              "      <td>1</td>\n",
              "      <td>1</td>\n",
              "      <td>1</td>\n",
              "      <td>0.196364</td>\n",
              "      <td>0.189405</td>\n",
              "      <td>0.437273</td>\n",
              "      <td>0.248309</td>\n",
              "      <td>1349</td>\n",
              "    </tr>\n",
              "    <tr>\n",
              "      <th>3</th>\n",
              "      <td>4</td>\n",
              "      <td>2011-01-04</td>\n",
              "      <td>1</td>\n",
              "      <td>0</td>\n",
              "      <td>1</td>\n",
              "      <td>0</td>\n",
              "      <td>2</td>\n",
              "      <td>1</td>\n",
              "      <td>1</td>\n",
              "      <td>0.200000</td>\n",
              "      <td>0.212122</td>\n",
              "      <td>0.590435</td>\n",
              "      <td>0.160296</td>\n",
              "      <td>1562</td>\n",
              "    </tr>\n",
              "    <tr>\n",
              "      <th>4</th>\n",
              "      <td>5</td>\n",
              "      <td>2011-01-05</td>\n",
              "      <td>1</td>\n",
              "      <td>0</td>\n",
              "      <td>1</td>\n",
              "      <td>0</td>\n",
              "      <td>3</td>\n",
              "      <td>1</td>\n",
              "      <td>1</td>\n",
              "      <td>0.226957</td>\n",
              "      <td>0.229270</td>\n",
              "      <td>0.436957</td>\n",
              "      <td>0.186900</td>\n",
              "      <td>1600</td>\n",
              "    </tr>\n",
              "  </tbody>\n",
              "</table>\n",
              "</div>"
            ],
            "text/plain": [
              "   instant      dteday  season  yr  mnth  holiday  weekday  workingday  \\\n",
              "0        1  2011-01-01       1   0     1        0        6           0   \n",
              "1        2  2011-01-02       1   0     1        0        0           0   \n",
              "2        3  2011-01-03       1   0     1        0        1           1   \n",
              "3        4  2011-01-04       1   0     1        0        2           1   \n",
              "4        5  2011-01-05       1   0     1        0        3           1   \n",
              "\n",
              "   weathersit      temp     atemp       hum  windspeed   cnt  \n",
              "0           2  0.344167  0.363625  0.805833   0.160446   985  \n",
              "1           2  0.363478  0.353739  0.696087   0.248539   801  \n",
              "2           1  0.196364  0.189405  0.437273   0.248309  1349  \n",
              "3           1  0.200000  0.212122  0.590435   0.160296  1562  \n",
              "4           1  0.226957  0.229270  0.436957   0.186900  1600  "
            ]
          },
          "execution_count": 7,
          "metadata": {},
          "output_type": "execute_result"
        }
      ],
      "source": [
        "dataset[0:12].head()"
      ],
      "id": "DzuvjokReUfu"
    },
    {
      "cell_type": "markdown",
      "metadata": {
        "id": "8o4kITzPeUfv"
      },
      "source": [
        "### 问题1：对数据集进行划分\n",
        "完成下列代码补全操作，具体的功能要求如下：\n",
        "- 要求1：使用`train_test_split`对数据集进行划分。\n",
        "- 要求2：测试集比例设置为33%\n",
        "- 要求3：instant 和 dteday 不作为特征\n",
        "- 要求4：cnt 为标签列"
      ],
      "id": "8o4kITzPeUfv"
    },
    {
      "cell_type": "markdown",
      "metadata": {
        "id": "3Tt72cS0eUfv"
      },
      "source": [
        "instant 和 dteday 不作为特征，使用drop()函数去除。"
      ],
      "id": "3Tt72cS0eUfv"
    },
    {
      "cell_type": "code",
      "execution_count": null,
      "metadata": {
        "id": "XfQxKG1UeUfv"
      },
      "outputs": [],
      "source": [
        "######## your code ########  \n",
        "dataset =  dataset.drop(['instant', 'dteday'], axis=1)\n",
        "######## your code ########"
      ],
      "id": "XfQxKG1UeUfv"
    },
    {
      "cell_type": "markdown",
      "metadata": {
        "id": "eVqBZF-VeUfw"
      },
      "source": [
        "用info()函数查看数据集是否去除instant 和 dteday特征。"
      ],
      "id": "eVqBZF-VeUfw"
    },
    {
      "cell_type": "code",
      "execution_count": null,
      "metadata": {
        "id": "DIoCcmV9eUfw",
        "outputId": "12f38130-0971-45cb-eab3-70949f7fd7d8"
      },
      "outputs": [
        {
          "name": "stdout",
          "output_type": "stream",
          "text": [
            "<class 'pandas.core.frame.DataFrame'>\n",
            "RangeIndex: 731 entries, 0 to 730\n",
            "Data columns (total 12 columns):\n",
            " #   Column      Non-Null Count  Dtype  \n",
            "---  ------      --------------  -----  \n",
            " 0   season      731 non-null    int64  \n",
            " 1   yr          731 non-null    int64  \n",
            " 2   mnth        731 non-null    int64  \n",
            " 3   holiday     731 non-null    int64  \n",
            " 4   weekday     731 non-null    int64  \n",
            " 5   workingday  731 non-null    int64  \n",
            " 6   weathersit  731 non-null    int64  \n",
            " 7   temp        731 non-null    float64\n",
            " 8   atemp       731 non-null    float64\n",
            " 9   hum         731 non-null    float64\n",
            " 10  windspeed   731 non-null    float64\n",
            " 11  cnt         731 non-null    int64  \n",
            "dtypes: float64(4), int64(8)\n",
            "memory usage: 68.7 KB\n"
          ]
        }
      ],
      "source": [
        "dataset.info() # 正确显示如下"
      ],
      "id": "DIoCcmV9eUfw"
    },
    {
      "cell_type": "markdown",
      "metadata": {
        "id": "Tlpf71WSeUfw"
      },
      "source": [
        "使用 df.columns.values 查看表头。"
      ],
      "id": "Tlpf71WSeUfw"
    },
    {
      "cell_type": "code",
      "execution_count": null,
      "metadata": {
        "id": "WNaJtugYeUfw",
        "outputId": "2702c6ac-8bf6-4cf4-c869-5a9e96654628"
      },
      "outputs": [
        {
          "data": {
            "text/plain": [
              "array(['season', 'yr', 'mnth', 'holiday', 'weekday', 'workingday',\n",
              "       'weathersit', 'temp', 'atemp', 'hum', 'windspeed', 'cnt'],\n",
              "      dtype=object)"
            ]
          },
          "execution_count": 11,
          "metadata": {},
          "output_type": "execute_result"
        }
      ],
      "source": [
        "dataset.columns.values"
      ],
      "id": "WNaJtugYeUfw"
    },
    {
      "cell_type": "markdown",
      "metadata": {
        "id": "ytQXzmgXeUfx"
      },
      "source": [
        "cnt 为标签列，其他均为特征，建立一个features的列表，去除 cnt 。"
      ],
      "id": "ytQXzmgXeUfx"
    },
    {
      "cell_type": "code",
      "execution_count": null,
      "metadata": {
        "id": "1-er3E7qeUfx"
      },
      "outputs": [],
      "source": [
        "features = list(dataset.columns.values)\n",
        "######## your code ########\n",
        "features.remove('cnt')\n",
        "######## your code ########"
      ],
      "id": "1-er3E7qeUfx"
    },
    {
      "cell_type": "code",
      "execution_count": null,
      "metadata": {
        "id": "nwMsUnFieUfx",
        "outputId": "c4271d01-b05d-4d18-c5ac-b089ee84bec0"
      },
      "outputs": [
        {
          "data": {
            "text/plain": [
              "['season',\n",
              " 'yr',\n",
              " 'mnth',\n",
              " 'holiday',\n",
              " 'weekday',\n",
              " 'workingday',\n",
              " 'weathersit',\n",
              " 'temp',\n",
              " 'atemp',\n",
              " 'hum',\n",
              " 'windspeed']"
            ]
          },
          "execution_count": 13,
          "metadata": {},
          "output_type": "execute_result"
        }
      ],
      "source": [
        "features # 正确显示如下"
      ],
      "id": "nwMsUnFieUfx"
    },
    {
      "cell_type": "markdown",
      "metadata": {
        "id": "-Oy2OKkeeUfx"
      },
      "source": [
        "train_test_split()函数基于用户指定的种子参数将原始数据集拆分为两个随机数据集，统一设置random_state种子参数为42。\n",
        "\n",
        "提示设置test_size参数是测试集的比例，如果将它设置为0.3或30%，是讲数据集中70%的数据分配给了训练集，而剩余30%的数据分配给测试集。"
      ],
      "id": "-Oy2OKkeeUfx"
    },
    {
      "cell_type": "code",
      "execution_count": null,
      "metadata": {
        "execution": {
          "iopub.execute_input": "2022-08-17T07:40:58.334839Z",
          "iopub.status.busy": "2022-08-17T07:40:58.334404Z",
          "iopub.status.idle": "2022-08-17T07:40:58.346917Z",
          "shell.execute_reply": "2022-08-17T07:40:58.345835Z",
          "shell.execute_reply.started": "2022-08-17T07:40:58.334788Z"
        },
        "tags": [],
        "id": "3isKyJLveUfx"
      },
      "outputs": [],
      "source": [
        "from sklearn.model_selection import train_test_split\n",
        "\n",
        "######## your code ########\n",
        "X, X_test, y, y_test = train_test_split(dataset[features], dataset[['cnt']], test_size=0.33, random_state=42)\n",
        "######## your code ########\n",
        "\n",
        "# X.reset_index(inplace=True)\n",
        "# y = y.reset_index()\n",
        "\n",
        "# X_test.reset_index(inplace=True)\n",
        "# y_test = y_test.reset_index()"
      ],
      "id": "3isKyJLveUfx"
    },
    {
      "cell_type": "markdown",
      "metadata": {
        "id": "v4RQjxDbeUfy"
      },
      "source": [
        "查看训练集和测试集的 shape，参考结果如下"
      ],
      "id": "v4RQjxDbeUfy"
    },
    {
      "cell_type": "code",
      "execution_count": null,
      "metadata": {
        "id": "O85jSYtneUfy",
        "outputId": "e9a5bc05-8525-4bdb-a3af-67275358872b"
      },
      "outputs": [
        {
          "name": "stdout",
          "output_type": "stream",
          "text": [
            "X(训练集特征) shape is (489, 11)\n",
            "y(训练集标签) shape is (489, 1)\n",
            "------------------------------\n",
            "X(测试集特征) shape is (242, 11)\n",
            "y(测试集标签) shape is (242, 1)\n"
          ]
        }
      ],
      "source": [
        "print('X(训练集特征) shape is {}'.format(X.shape))\n",
        "print('y(训练集标签) shape is {}'.format(y.shape))\n",
        "print('-'*30)\n",
        "print('X(测试集特征) shape is {}'.format(X_test.shape))\n",
        "print('y(测试集标签) shape is {}'.format(y_test.shape))"
      ],
      "id": "O85jSYtneUfy"
    },
    {
      "cell_type": "markdown",
      "metadata": {
        "id": "afs-iMcceUfy"
      },
      "source": [
        "### 问题2：完成模型训练\n",
        "\n",
        "完成下列代码补全操作，具体的功能要求如下：\n",
        "- 要求1：初始化 sklearn 中线性回归模型为`reg`\n",
        "- 要求2：使用训练集完成训练"
      ],
      "id": "afs-iMcceUfy"
    },
    {
      "cell_type": "code",
      "execution_count": null,
      "metadata": {
        "execution": {
          "iopub.execute_input": "2022-08-17T07:50:01.335904Z",
          "iopub.status.busy": "2022-08-17T07:50:01.335359Z",
          "iopub.status.idle": "2022-08-17T07:50:01.340898Z",
          "shell.execute_reply": "2022-08-17T07:50:01.339793Z",
          "shell.execute_reply.started": "2022-08-17T07:50:01.335848Z"
        },
        "tags": [],
        "id": "-FxAHG0YeUfy"
      },
      "outputs": [],
      "source": [
        "from sklearn import datasets, linear_model, metrics\n",
        "\n",
        "######## your code ########\n",
        "# 初始化模型\n",
        "model_lr = linear_model.LinearRegression() \n",
        "######## your code ########"
      ],
      "id": "-FxAHG0YeUfy"
    },
    {
      "cell_type": "code",
      "execution_count": null,
      "metadata": {
        "id": "SvN441ZfeUfy",
        "outputId": "6e7eafcd-94e4-49a5-9534-3c9f5a0b1e74"
      },
      "outputs": [
        {
          "data": {
            "text/plain": [
              "LinearRegression()"
            ]
          },
          "execution_count": 29,
          "metadata": {},
          "output_type": "execute_result"
        }
      ],
      "source": [
        "######## your code ########\n",
        "# 训练模型\n",
        "model_lr.fit(X, y) \n",
        "######## your code ########"
      ],
      "id": "SvN441ZfeUfy"
    },
    {
      "cell_type": "markdown",
      "metadata": {
        "id": "a4pQWh8meUfy"
      },
      "source": [
        "## 问题3：预测结果可视化\n",
        "\n",
        "完成下列代码补全操作，具体的功能要求如下：\n",
        "- 要求1：使用训练好的模型对测试集进行预测\n",
        "- 要求2：使用matplotlib中合适的方法对模型预测值和测试集标签进行可视化。"
      ],
      "id": "a4pQWh8meUfy"
    },
    {
      "cell_type": "code",
      "execution_count": null,
      "metadata": {
        "id": "R_zCevLmeUfy"
      },
      "outputs": [],
      "source": [
        "######## your code ########\n",
        "predictions = model_lr.predict(X_test)\n",
        "######## your code ########"
      ],
      "id": "R_zCevLmeUfy"
    },
    {
      "cell_type": "code",
      "execution_count": null,
      "metadata": {
        "id": "wk2NlJaCeUfz",
        "outputId": "a6b8baa5-fe1c-45aa-9dba-1fc4731b7ee2"
      },
      "outputs": [
        {
          "data": {
            "text/plain": [
              "(242, 1)"
            ]
          },
          "execution_count": 31,
          "metadata": {},
          "output_type": "execute_result"
        }
      ],
      "source": [
        "predictions.shape "
      ],
      "id": "wk2NlJaCeUfz"
    },
    {
      "cell_type": "markdown",
      "metadata": {
        "id": "iAILX_vVeUfz"
      },
      "source": [
        "flatten()函数用法<br>\n",
        "\n",
        "flatten是numpy.ndarray.flatten的一个函数，即返回一个折叠成一维的数组。但是该函数只能适用于numpy对象，即array或者mat，普通的list列表是不行的。 "
      ],
      "id": "iAILX_vVeUfz"
    },
    {
      "cell_type": "code",
      "execution_count": null,
      "metadata": {
        "id": "-BNw-JpaeUfz"
      },
      "outputs": [],
      "source": [
        "predictions.flatten() "
      ],
      "id": "-BNw-JpaeUfz"
    },
    {
      "cell_type": "markdown",
      "metadata": {
        "id": "tKobWxA8eUfz"
      },
      "source": [
        "pandas库的DataFrame属性中df.values的作用是返回numpy数组表示的数据"
      ],
      "id": "tKobWxA8eUfz"
    },
    {
      "cell_type": "code",
      "execution_count": null,
      "metadata": {
        "id": "sNrl0SxUeUfz"
      },
      "outputs": [],
      "source": [
        "y_test.values"
      ],
      "id": "sNrl0SxUeUfz"
    },
    {
      "cell_type": "code",
      "execution_count": null,
      "metadata": {
        "execution": {
          "iopub.execute_input": "2022-08-17T07:52:09.332040Z",
          "iopub.status.busy": "2022-08-17T07:52:09.331446Z",
          "iopub.status.idle": "2022-08-17T07:52:09.336360Z",
          "shell.execute_reply": "2022-08-17T07:52:09.335660Z",
          "shell.execute_reply.started": "2022-08-17T07:52:09.331987Z"
        },
        "tags": [],
        "id": "f9ldS_bGeUfz",
        "outputId": "6fae689f-6d6b-4eba-f36b-444451375ab1"
      },
      "outputs": [
        {
          "data": {
            "image/png": "[encoded data removed]",
            "text/plain": [
              "<Figure size 1152x432 with 1 Axes>"
            ]
          },
          "metadata": {},
          "output_type": "display_data"
        }
      ],
      "source": [
        "import matplotlib.pyplot as plt\n",
        "plt.style.use('fivethirtyeight')\n",
        "\n",
        "plt.figure(figsize=(16,6))\n",
        " \n",
        "# 测试集：真实值\n",
        "######## your code ########\n",
        "plt.plot(y_test.values, marker=\".\", label=\"actual\")\n",
        "######## your code ########\n",
        "\n",
        "# 模型预测值\n",
        "######## your code ########\n",
        "plt.plot(predictions.flatten(), marker=\".\", label=\"predicttion\", color=\"r\")\n",
        "######## your code ########\n",
        "\n",
        "# 图例位置\n",
        "plt.legend(loc=\"best\")\n",
        "plt.show()"
      ],
      "id": "f9ldS_bGeUfz"
    },
    {
      "cell_type": "markdown",
      "metadata": {
        "id": "Fk0_b_9jeUfz"
      },
      "source": [
        "## 问题4：使用评价函数计算精度\n",
        "\n",
        "完成下列代码补全操作，具体的功能要求如下：\n",
        "- 要求1：使用MAE计算测试集和与训练集预测精度。\n",
        "- 要求2：使用MSE计算测试集和与训练集预测精度。"
      ],
      "id": "Fk0_b_9jeUfz"
    },
    {
      "cell_type": "code",
      "execution_count": null,
      "metadata": {
        "execution": {
          "iopub.execute_input": "2022-08-17T07:52:52.335738Z",
          "iopub.status.busy": "2022-08-17T07:52:52.335304Z",
          "iopub.status.idle": "2022-08-17T07:52:52.339827Z",
          "shell.execute_reply": "2022-08-17T07:52:52.339048Z",
          "shell.execute_reply.started": "2022-08-17T07:52:52.335704Z"
        },
        "tags": [],
        "id": "E1kgY6gbeUf0"
      },
      "outputs": [],
      "source": [
        "# 使用MAE计算测试集和与训练集预测精度\n",
        "from sklearn.metrics import mean_absolute_error\n",
        "\n",
        "######## your code ########\n",
        "MAE_lr = mean_absolute_error(y_test, predictions)\n",
        "######## your code ########"
      ],
      "id": "E1kgY6gbeUf0"
    },
    {
      "cell_type": "code",
      "execution_count": null,
      "metadata": {
        "execution": {
          "iopub.execute_input": "2022-08-17T07:52:51.330742Z",
          "iopub.status.busy": "2022-08-17T07:52:51.330154Z",
          "iopub.status.idle": "2022-08-17T07:52:51.335219Z",
          "shell.execute_reply": "2022-08-17T07:52:51.334623Z",
          "shell.execute_reply.started": "2022-08-17T07:52:51.330690Z"
        },
        "tags": [],
        "id": "giDNywcAeUf0"
      },
      "outputs": [],
      "source": [
        "# 使用MSE计算测试集和与训练集预测精度\n",
        "from sklearn.metrics import mean_squared_error\n",
        "\n",
        "######## your code ########\n",
        "MSE_lr = mean_squared_error(y_test, predictions)\n",
        "######## your code ########"
      ],
      "id": "giDNywcAeUf0"
    },
    {
      "cell_type": "code",
      "execution_count": null,
      "metadata": {
        "id": "rogKyPypeUf0",
        "outputId": "92977338-2b1e-470a-af1c-24d14312b1b0"
      },
      "outputs": [
        {
          "name": "stdout",
          "output_type": "stream",
          "text": [
            "MAE_lr:642.874114212218, MSE_lr:777068.4148123114\n"
          ]
        }
      ],
      "source": [
        "print('MAE_lr:{0}, MSE_lr:{1}'.format(MAE_lr, MSE_lr))"
      ],
      "id": "rogKyPypeUf0"
    }
  ],
  "metadata": {
    "kernelspec": {
      "display_name": "Python 3",
      "language": "python",
      "name": "python3"
    },
    "language_info": {
      "codemirror_mode": {
        "name": "ipython",
        "version": 3
      },
      "file_extension": ".py",
      "mimetype": "text/x-python",
      "name": "python",
      "nbconvert_exporter": "python",
      "pygments_lexer": "ipython3",
      "version": "3.7.5"
    },
    "colab": {
      "name": "L1_Homework_Reference.ipynb",
      "provenance": [],
      "include_colab_link": true
    }
  },
  "nbformat": 4,
  "nbformat_minor": 5
}