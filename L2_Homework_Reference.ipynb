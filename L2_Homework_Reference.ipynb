{
  "cells": [
    {
      "cell_type": "markdown",
      "metadata": {
        "id": "view-in-github",
        "colab_type": "text"
      },
      "source": [
        "<a href=\"https://colab.research.google.com/github/zhang8yiming/ML-DL/blob/main/L2_Homework_Reference.ipynb\" target=\"_parent\"><img src=\"https://colab.research.google.com/assets/colab-badge.svg\" alt=\"Open In Colab\"/></a>"
      ]
    },
    {
      "cell_type": "markdown",
      "metadata": {
        "id": "AmY8CW7Bcir0"
      },
      "source": [
        "# 用逻辑回归识别人脸表情\n",
        "\n",
        "## 作业内容\n",
        "\n",
        "在本次作业中，你将用 Scikit-Learn 中的逻辑回归识别人脸表情，调整逻辑回归的参数，对比模型效果。\n",
        "\n",
        "## Fer2013 人脸表情数据集简介\n",
        "\n",
        "本次作业的数据集来自 Fer2013 人脸表情数据集，从35886张人脸表情图片中挑选了7千张图片，每张图片是由大小固定为48×48的灰度图像组成，共有7种表情，分别对应于数字标签0-6，\n",
        "原始数据集链接：[数据集Fer2013下载地址,点我](https://www.kaggle.com/c/challenges-in-representation-learning-facial-expression-recognition-challenge/data)\n",
        "\n",
        "具体表情对应的标签和中英文如下：\n",
        ">0 anger 生气；<br> \n",
        "1 disgust 厌恶； <br>\n",
        "2 fear 恐惧；<br> \n",
        "3 happy 开心；<br> \n",
        "4 sad 伤心；<br>\n",
        "5 surprised 惊讶； <br>\n",
        "6 normal 中性。<br>\n",
        "\n",
        "但是，数据集并没有直接给出图片，而是将表情、图片数据、用途的数据保存到csv文件中，如下图所示，\n",
        "\n",
        "![在这里插入图片描述](https://img-blog.csdnimg.cn/4f7cc08520e64c68a23e3c110edf20ca.png#pic_center)\n",
        "\n",
        "如上图所示，第一张图是csv文件的开头，第一行是表头，说明每列数据的含义，第一列表示表情标签，第二列即为图片数据，这里是原始的图片数据，最后一列为用途。\n",
        "- 每行pixels下有48*48个数据，以空格进行分隔;\n",
        "- emotion有0-6，分别代表以下意思：‘anger’,‘disgust’,‘fear’,‘happy’,‘neutral’,‘sad’,‘surprised’；"
      ],
      "id": "AmY8CW7Bcir0"
    },
    {
      "cell_type": "markdown",
      "metadata": {
        "id": "PjFSQLyvcir5"
      },
      "source": [
        "### 使用Pandas读取csv"
      ],
      "id": "PjFSQLyvcir5"
    },
    {
      "cell_type": "code",
      "execution_count": null,
      "metadata": {
        "id": "p3-LCSpTcir6",
        "outputId": "9fde2b4e-7c66-416b-db26-1d88f84a9fb4"
      },
      "outputs": [
        {
          "name": "stdout",
          "output_type": "stream",
          "text": [
            "数据集的数量为： 6999\n"
          ]
        }
      ],
      "source": [
        "import numpy as np\n",
        "import pandas as pd\n",
        "\n",
        "fer2013 = pd.read_csv('fer2013_7k.csv')[['emotion', 'pixels']]\n",
        "fer2013 = fer2013.sample(frac=1.0)\n",
        "fer2013['pixels'] = fer2013['pixels'].apply(lambda x: np.array(x.split()).astype(int)) # 转换我 int 类型\n",
        "\n",
        "num_of_instances = len(fer2013) # 获取数据集的数量\n",
        "print(\"数据集的数量为：\",num_of_instances)"
      ],
      "id": "p3-LCSpTcir6"
    },
    {
      "cell_type": "markdown",
      "metadata": {
        "id": "hHF4-hhAcir8"
      },
      "source": [
        "### 使用cv2查看其中一张图片"
      ],
      "id": "hHF4-hhAcir8"
    },
    {
      "cell_type": "code",
      "execution_count": null,
      "metadata": {
        "id": "WoYfBnFBcir8",
        "outputId": "b9ba9a0d-c8e4-40c5-ad35-51c6c2acdbfb"
      },
      "outputs": [
        {
          "name": "stdout",
          "output_type": "stream",
          "text": [
            "标签是：anger\n"
          ]
        },
        {
          "data": {
            "image/png": "[encoded data removed]",
            "text/plain": [
              "<Figure size 432x288 with 1 Axes>"
            ]
          },
          "metadata": {
            "needs_background": "light"
          },
          "output_type": "display_data"
        }
      ],
      "source": [
        "import cv2\n",
        "import matplotlib.pyplot as plt\n",
        "\n",
        "# 建立标签 index 与 标签描述的对应\n",
        "\n",
        "emotion_label_to_text = {\n",
        "    0: 'anger', 1: 'disgust', \n",
        "    2: 'fear', 3: 'happiness', \n",
        "    4: 'sadness', 5: 'surprise', \n",
        "    6: 'neutral'\n",
        "}\n",
        "\n",
        "# 随机选择第一张图片\n",
        "img = fer2013['pixels'][0].reshape(48,48)\n",
        "plt.imshow(img0, cmap=\"gray\")\n",
        "print('标签是：{0}'.format(emotion_label_to_text[fer2013['emotion'][0]]))"
      ],
      "id": "WoYfBnFBcir8"
    },
    {
      "cell_type": "markdown",
      "metadata": {
        "id": "wYTH8HF-cir9"
      },
      "source": [
        "## 问题 1：完成逻辑回归的训练并进行评分\n",
        "\n",
        "完成下列代码补全操作，具体的功能要求如下：\n",
        "- 要求1：定义逻辑回归模型，solver设置为'sag'\n",
        "- 要求2：在训练集上进行训练，并在测试集上进行预测\n",
        "- 要求3：计算出每个类别的准确率"
      ],
      "id": "wYTH8HF-cir9"
    },
    {
      "cell_type": "code",
      "execution_count": null,
      "metadata": {
        "tags": [],
        "id": "U3ktsvCqcir-",
        "outputId": "52221411-040a-4bdd-ae3a-6ce29b739d24"
      },
      "outputs": [
        {
          "name": "stderr",
          "output_type": "stream",
          "text": [
            "/Users/apple/anaconda3/lib/python3.6/site-packages/sklearn/linear_model/_sag.py:330: ConvergenceWarning: The max_iter was reached which means the coef_ did not converge\n",
            "  \"the coef_ did not converge\", ConvergenceWarning)\n"
          ]
        },
        {
          "data": {
            "text/plain": [
              "LogisticRegression(solver='sag')"
            ]
          },
          "execution_count": 12,
          "metadata": {},
          "output_type": "execute_result"
        }
      ],
      "source": [
        "from sklearn import linear_model\n",
        "\n",
        "dfTrain = fer2013.iloc[:-2000] # 训练集\n",
        "dfTest = fer2013.iloc[-2000:] # 测试集\n",
        "\n",
        "y = dfTrain['emotion'].values.flatten() # \n",
        "x = np.vstack(dfTrain['pixels'].values)\n",
        "\n",
        "# TODO 训练模型\n",
        "\n",
        "######## your code ########\n",
        "model = linear_model.LogisticRegression(solver='sag')\n",
        "model.fit(x, y)\n",
        "######## your code ########"
      ],
      "id": "U3ktsvCqcir-"
    },
    {
      "cell_type": "code",
      "execution_count": null,
      "metadata": {
        "tags": [],
        "id": "QbB1kNlLcir-"
      },
      "outputs": [],
      "source": [
        "# TODO 对测试集预测\n",
        "\n",
        "######## your code ########\n",
        "y_test_pred = model.predict(np.vstack(dfTest['pixels'].values))\n",
        "######## your code ########"
      ],
      "id": "QbB1kNlLcir-"
    },
    {
      "cell_type": "markdown",
      "metadata": {
        "id": "657CBWfucir_"
      },
      "source": [
        "sklearn.metrics.confusion_matrix（混淆矩阵）\n",
        "\n",
        "```\n",
        "目的：评估分类器准确性\n",
        "函数：sklearn.metrics.confusion_matrix(y_true, y_pred, labels=None, sample_weight=None)\n",
        "输入：\n",
        "\n",
        "    y_true:实际的目标结果\n",
        "    y_pred:预测的结果\n",
        "    labels: 标签，对结果中的string进行排序， 顺序对应0、1、2\n",
        "    sample_weight:样本的权重\n",
        "输出：\n",
        "    \n",
        "    一个混淆矩阵，shape=[y中的类型数，y中的类型数]\n",
        "    矩阵中每个值表征分类的准确性\n",
        "    第0行第0列的数表示 y_true中值为0，y_pred中值也为0的个数\n",
        "    第0行第1列的数表示 y_true中值为0，y_pred中值为1的个数\n",
        "    以此类推：其i-th 行和j-th 列条目表示真实标签为i-th 类且预测标签为j-th 类的样本数\n",
        "```"
      ],
      "id": "657CBWfucir_"
    },
    {
      "cell_type": "code",
      "execution_count": null,
      "metadata": {
        "id": "9lEo-SS2cisA",
        "outputId": "7ceecbe7-edcf-4b93-aff6-57966272ffaf"
      },
      "outputs": [
        {
          "name": "stdout",
          "output_type": "stream",
          "text": [
            "模型的准确率是：[0.19141914 0.03225806 0.21666667 0.54330709 0.24846626 0.2706422\n",
            " 0.2611465 ]\n"
          ]
        }
      ],
      "source": [
        "# TODO 计算每类准确率\n",
        "from sklearn import metrics\n",
        "\n",
        "######## your code ########\n",
        "# 获得混淆矩阵\n",
        "matrix = metrics.confusion_matrix(dfTest['emotion'].values.flatten(), y_test_pred)\n",
        "# 获得每个类的准确率\n",
        "matrix.diagonal() / matrix.sum(axis=1)\n",
        "######## your code ########"
      ],
      "id": "9lEo-SS2cisA"
    },
    {
      "cell_type": "code",
      "execution_count": null,
      "metadata": {
        "id": "gmeUxkI2cisA",
        "outputId": "591d8ba6-3d64-4ada-d5a1-6c3f606f632c"
      },
      "outputs": [
        {
          "data": {
            "text/plain": [
              "array([[ 58,   0,  42,  95,  51,  21,  36],\n",
              "       [  4,   1,   8,  10,   5,   0,   3],\n",
              "       [ 27,   0,  65,  72,  44,  33,  59],\n",
              "       [ 38,   0,  52, 276,  53,  20,  69],\n",
              "       [ 40,   2,  43,  75,  81,  24,  61],\n",
              "       [ 15,   0,  32,  47,  30,  59,  35],\n",
              "       [ 43,   3,  40,  74,  54,  18,  82]])"
            ]
          },
          "execution_count": 17,
          "metadata": {},
          "output_type": "execute_result"
        }
      ],
      "source": [
        "matrix"
      ],
      "id": "gmeUxkI2cisA"
    },
    {
      "cell_type": "markdown",
      "metadata": {
        "id": "r_tgtiRxcisA"
      },
      "source": [
        "## 问题2：完成逻辑回归的参数调整\n",
        "\n",
        "完成下列代码补全操作，具体的功能要求如下：\n",
        "- 要求1：尝试对 penalty 和 C 进行调整，并从新定义逻辑回归模型\n",
        "- 要求2：对超参数进行搜索，搜索得到最优的超参数\n",
        "\n",
        "**penalty** {‘l1’, ‘l2’, ‘elasticnet’, ‘none’}, default=’l2’\n",
        "\n",
        "> Specify the norm of the penalty:\n",
        "\n",
        "-   `'none'`: no penalty is added;\n",
        "-   `'l2'`: add a L2 penalty term and it is the default choice;\n",
        "-   `'l1'`: add a L1 penalty term;\n",
        "-   `'elasticnet'`: both L1 and L2 penalty terms are added.\n",
        "\n",
        "\n",
        "**C** float, default=1.0\n",
        "\n",
        "> Inverse of regularization strength; must be a positive float. Like in support vector machines, smaller values specify stronger regularization."
      ],
      "id": "r_tgtiRxcisA"
    },
    {
      "cell_type": "code",
      "execution_count": null,
      "metadata": {
        "tags": [],
        "id": "8Ninwg3GcisB"
      },
      "outputs": [],
      "source": [
        "for penalty in [ 'l2', 'none']:\n",
        "    for c in [0.1, 0.2, 0.5, 1]:\n",
        "        # TODO 计算每个参数的准确率\n",
        "        pass"
      ],
      "id": "8Ninwg3GcisB"
    },
    {
      "cell_type": "code",
      "execution_count": null,
      "metadata": {
        "id": "7HjQ7trOcisB",
        "outputId": "c941e2bc-ed10-4457-f5e6-aafeab2ec02d"
      },
      "outputs": [
        {
          "name": "stderr",
          "output_type": "stream",
          "text": [
            "/Users/apple/anaconda3/lib/python3.6/site-packages/sklearn/linear_model/_sag.py:330: ConvergenceWarning: The max_iter was reached which means the coef_ did not converge\n",
            "  \"the coef_ did not converge\", ConvergenceWarning)\n"
          ]
        },
        {
          "name": "stdout",
          "output_type": "stream",
          "text": [
            "l2 0.1 0.3115\n"
          ]
        },
        {
          "name": "stderr",
          "output_type": "stream",
          "text": [
            "/Users/apple/anaconda3/lib/python3.6/site-packages/sklearn/linear_model/_sag.py:330: ConvergenceWarning: The max_iter was reached which means the coef_ did not converge\n",
            "  \"the coef_ did not converge\", ConvergenceWarning)\n"
          ]
        },
        {
          "name": "stdout",
          "output_type": "stream",
          "text": [
            "l2 0.2 0.312\n"
          ]
        },
        {
          "name": "stderr",
          "output_type": "stream",
          "text": [
            "/Users/apple/anaconda3/lib/python3.6/site-packages/sklearn/linear_model/_sag.py:330: ConvergenceWarning: The max_iter was reached which means the coef_ did not converge\n",
            "  \"the coef_ did not converge\", ConvergenceWarning)\n"
          ]
        },
        {
          "name": "stdout",
          "output_type": "stream",
          "text": [
            "l2 0.5 0.3115\n"
          ]
        },
        {
          "name": "stderr",
          "output_type": "stream",
          "text": [
            "/Users/apple/anaconda3/lib/python3.6/site-packages/sklearn/linear_model/_sag.py:330: ConvergenceWarning: The max_iter was reached which means the coef_ did not converge\n",
            "  \"the coef_ did not converge\", ConvergenceWarning)\n",
            "/Users/apple/anaconda3/lib/python3.6/site-packages/sklearn/linear_model/_logistic.py:1321: UserWarning: Setting penalty='none' will ignore the C and l1_ratio parameters\n",
            "  \"Setting penalty='none' will ignore the C and l1_ratio \"\n"
          ]
        },
        {
          "name": "stdout",
          "output_type": "stream",
          "text": [
            "l2 1 0.311\n"
          ]
        },
        {
          "name": "stderr",
          "output_type": "stream",
          "text": [
            "/Users/apple/anaconda3/lib/python3.6/site-packages/sklearn/linear_model/_sag.py:330: ConvergenceWarning: The max_iter was reached which means the coef_ did not converge\n",
            "  \"the coef_ did not converge\", ConvergenceWarning)\n",
            "/Users/apple/anaconda3/lib/python3.6/site-packages/sklearn/linear_model/_logistic.py:1321: UserWarning: Setting penalty='none' will ignore the C and l1_ratio parameters\n",
            "  \"Setting penalty='none' will ignore the C and l1_ratio \"\n"
          ]
        },
        {
          "name": "stdout",
          "output_type": "stream",
          "text": [
            "none 0.1 0.3125\n"
          ]
        },
        {
          "name": "stderr",
          "output_type": "stream",
          "text": [
            "/Users/apple/anaconda3/lib/python3.6/site-packages/sklearn/linear_model/_sag.py:330: ConvergenceWarning: The max_iter was reached which means the coef_ did not converge\n",
            "  \"the coef_ did not converge\", ConvergenceWarning)\n",
            "/Users/apple/anaconda3/lib/python3.6/site-packages/sklearn/linear_model/_logistic.py:1321: UserWarning: Setting penalty='none' will ignore the C and l1_ratio parameters\n",
            "  \"Setting penalty='none' will ignore the C and l1_ratio \"\n"
          ]
        },
        {
          "name": "stdout",
          "output_type": "stream",
          "text": [
            "none 0.2 0.3105\n"
          ]
        },
        {
          "name": "stderr",
          "output_type": "stream",
          "text": [
            "/Users/apple/anaconda3/lib/python3.6/site-packages/sklearn/linear_model/_sag.py:330: ConvergenceWarning: The max_iter was reached which means the coef_ did not converge\n",
            "  \"the coef_ did not converge\", ConvergenceWarning)\n"
          ]
        },
        {
          "name": "stdout",
          "output_type": "stream",
          "text": [
            "none 0.5 0.312\n",
            "none 1 0.3105\n"
          ]
        },
        {
          "name": "stderr",
          "output_type": "stream",
          "text": [
            "/Users/apple/anaconda3/lib/python3.6/site-packages/sklearn/linear_model/_sag.py:330: ConvergenceWarning: The max_iter was reached which means the coef_ did not converge\n",
            "  \"the coef_ did not converge\", ConvergenceWarning)\n"
          ]
        }
      ],
      "source": [
        "for penalty in [ 'l2', 'none']:\n",
        "    for c in [0.1, 0.2, 0.5, 1]:\n",
        "        model = linear_model.LogisticRegression(penalty=penalty, C=c, solver='sag')\n",
        "        model.fit(x, y)\n",
        "        y_test_pred = model.predict(np.vstack(dfTest['pixels'].values))\n",
        "        print(penalty, c, metrics.accuracy_score(dfTest['emotion'].values, y_test_pred))"
      ],
      "id": "7HjQ7trOcisB"
    },
    {
      "cell_type": "code",
      "execution_count": null,
      "metadata": {
        "id": "xYst5WAycisC"
      },
      "outputs": [],
      "source": [
        ""
      ],
      "id": "xYst5WAycisC"
    }
  ],
  "metadata": {
    "kernelspec": {
      "display_name": "Python 3",
      "language": "python",
      "name": "python3"
    },
    "language_info": {
      "codemirror_mode": {
        "name": "ipython",
        "version": 3
      },
      "file_extension": ".py",
      "mimetype": "text/x-python",
      "name": "python",
      "nbconvert_exporter": "python",
      "pygments_lexer": "ipython3",
      "version": "3.6.8"
    },
    "toc": {
      "base_numbering": 1,
      "nav_menu": {},
      "number_sections": true,
      "sideBar": true,
      "skip_h1_title": false,
      "title_cell": "Table of Contents",
      "title_sidebar": "Contents",
      "toc_cell": false,
      "toc_position": {},
      "toc_section_display": true,
      "toc_window_display": false
    },
    "colab": {
      "name": "L2_Homework_Reference.ipynb",
      "provenance": [],
      "include_colab_link": true
    }
  },
  "nbformat": 4,
  "nbformat_minor": 5
}