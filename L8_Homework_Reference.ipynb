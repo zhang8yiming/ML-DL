{
  "cells": [
    {
      "cell_type": "markdown",
      "metadata": {
        "id": "view-in-github",
        "colab_type": "text"
      },
      "source": [
        "<a href=\"https://colab.research.google.com/github/zhang8yiming/ML-DL/blob/main/L8_Homework_Reference.ipynb\" target=\"_parent\"><img src=\"https://colab.research.google.com/assets/colab-badge.svg\" alt=\"Open In Colab\"/></a>"
      ]
    },
    {
      "cell_type": "markdown",
      "metadata": {
        "id": "T6mGytq4uPEz"
      },
      "source": [
        "# RNN 文本分类\n",
        "\n",
        "## 作业内容\n",
        "\n",
        "本次作业，你将：\n",
        "\n",
        "- 阅读文本分类的代码，找到可以替换 RNN 层的位置，用 LSTM 层进行替换；\n",
        "\n",
        "- 将 LSTM 设置为双向 LSTM，修改后续对应层的维度，从新训练模型，记录验证集精度。\n",
        "\n",
        "## 数据简介\n",
        "\n",
        "- 数据集包含用户与音箱等智能设备进行单轮对话的文本数据，包含共 12 个意图类别。\n",
        "\n",
        "- 数据以 CSV 格式存储，包括 train.csv、test.csv 和 test_label.csv 三个文件。\n",
        "\n",
        "- train.csv 为训练数据，共约 12100 条，其文本由ASR语音识别技术转写得到，因此可能需要进一步处理，文本标注包含用户意图。\n",
        "\n",
        "- test.csv 、test_label.csv 为测试数据，共约 3000 条。"
      ],
      "id": "T6mGytq4uPEz"
    },
    {
      "cell_type": "code",
      "execution_count": null,
      "metadata": {
        "execution": {
          "iopub.execute_input": "2022-09-12T13:15:14.179493Z",
          "iopub.status.busy": "2022-09-12T13:15:14.179267Z",
          "iopub.status.idle": "2022-09-12T13:15:14.985547Z",
          "shell.execute_reply": "2022-09-12T13:15:14.984997Z",
          "shell.execute_reply.started": "2022-09-12T13:15:14.179438Z"
        },
        "tags": [],
        "id": "avG2C1ZQuPE3"
      },
      "outputs": [],
      "source": [
        "import torch\n",
        "import numpy as np\n",
        "import jieba\n",
        "import pandas as pd\n",
        "\n",
        "train_data = pd.read_csv('对话意图分类/train.csv', sep='\\t', header=None)\n",
        "test_data = pd.read_csv('对话意图分类/test.csv', sep='\\t', header=None)"
      ],
      "id": "avG2C1ZQuPE3"
    },
    {
      "cell_type": "code",
      "execution_count": null,
      "metadata": {
        "execution": {
          "iopub.execute_input": "2022-09-12T13:15:14.987200Z",
          "iopub.status.busy": "2022-09-12T13:15:14.986841Z",
          "iopub.status.idle": "2022-09-12T13:15:14.996717Z",
          "shell.execute_reply": "2022-09-12T13:15:14.996368Z",
          "shell.execute_reply.started": "2022-09-12T13:15:14.987181Z"
        },
        "tags": [],
        "id": "h8GNA95XuPE4",
        "outputId": "17b7b966-1998-45ff-eebc-ff3fc534dbb1"
      },
      "outputs": [
        {
          "data": {
            "text/html": [
              "<div>\n",
              "<style scoped>\n",
              "    .dataframe tbody tr th:only-of-type {\n",
              "        vertical-align: middle;\n",
              "    }\n",
              "\n",
              "    .dataframe tbody tr th {\n",
              "        vertical-align: top;\n",
              "    }\n",
              "\n",
              "    .dataframe thead th {\n",
              "        text-align: right;\n",
              "    }\n",
              "</style>\n",
              "<table border=\"1\" class=\"dataframe\">\n",
              "  <thead>\n",
              "    <tr style=\"text-align: right;\">\n",
              "      <th></th>\n",
              "      <th>0</th>\n",
              "      <th>1</th>\n",
              "    </tr>\n",
              "  </thead>\n",
              "  <tbody>\n",
              "    <tr>\n",
              "      <th>0</th>\n",
              "      <td>还有双鸭山到淮阴的汽车票吗13号的</td>\n",
              "      <td>Travel-Query</td>\n",
              "    </tr>\n",
              "    <tr>\n",
              "      <th>1</th>\n",
              "      <td>从这里怎么回家</td>\n",
              "      <td>Travel-Query</td>\n",
              "    </tr>\n",
              "    <tr>\n",
              "      <th>2</th>\n",
              "      <td>随便播放一首专辑阁楼里的佛里的歌</td>\n",
              "      <td>Music-Play</td>\n",
              "    </tr>\n",
              "    <tr>\n",
              "      <th>3</th>\n",
              "      <td>给看一下墓王之王嘛</td>\n",
              "      <td>FilmTele-Play</td>\n",
              "    </tr>\n",
              "    <tr>\n",
              "      <th>4</th>\n",
              "      <td>我想看挑战两把s686打突变团竞的游戏视频</td>\n",
              "      <td>Video-Play</td>\n",
              "    </tr>\n",
              "  </tbody>\n",
              "</table>\n",
              "</div>"
            ],
            "text/plain": [
              "                       0              1\n",
              "0      还有双鸭山到淮阴的汽车票吗13号的   Travel-Query\n",
              "1                从这里怎么回家   Travel-Query\n",
              "2       随便播放一首专辑阁楼里的佛里的歌     Music-Play\n",
              "3              给看一下墓王之王嘛  FilmTele-Play\n",
              "4  我想看挑战两把s686打突变团竞的游戏视频     Video-Play"
            ]
          },
          "execution_count": 2,
          "metadata": {},
          "output_type": "execute_result"
        }
      ],
      "source": [
        "train_data.head()"
      ],
      "id": "h8GNA95XuPE4"
    },
    {
      "cell_type": "code",
      "execution_count": null,
      "metadata": {
        "execution": {
          "iopub.execute_input": "2022-09-12T13:15:14.997471Z",
          "iopub.status.busy": "2022-09-12T13:15:14.997299Z",
          "iopub.status.idle": "2022-09-12T13:15:15.065847Z",
          "shell.execute_reply": "2022-09-12T13:15:15.064863Z",
          "shell.execute_reply.started": "2022-09-12T13:15:14.997455Z"
        },
        "tags": [],
        "id": "NNqDIwwOuPE5"
      },
      "outputs": [],
      "source": [
        "train_data = train_data.sample(frac=1.0)"
      ],
      "id": "NNqDIwwOuPE5"
    },
    {
      "cell_type": "code",
      "execution_count": null,
      "metadata": {
        "execution": {
          "iopub.execute_input": "2022-09-12T13:15:15.067832Z",
          "iopub.status.busy": "2022-09-12T13:15:15.067363Z",
          "iopub.status.idle": "2022-09-12T13:15:15.129866Z",
          "shell.execute_reply": "2022-09-12T13:15:15.129176Z",
          "shell.execute_reply.started": "2022-09-12T13:15:15.067766Z"
        },
        "tags": [],
        "id": "d8DDUMcmuPE5"
      },
      "outputs": [],
      "source": [
        "train_data[1], lbl = pd.factorize(train_data[1])"
      ],
      "id": "d8DDUMcmuPE5"
    },
    {
      "cell_type": "code",
      "execution_count": null,
      "metadata": {
        "execution": {
          "iopub.execute_input": "2022-09-12T13:15:15.130713Z",
          "iopub.status.busy": "2022-09-12T13:15:15.130577Z",
          "iopub.status.idle": "2022-09-12T13:15:15.188992Z",
          "shell.execute_reply": "2022-09-12T13:15:15.187865Z",
          "shell.execute_reply.started": "2022-09-12T13:15:15.130697Z"
        },
        "tags": [],
        "id": "XtpsPcEquPE5"
      },
      "outputs": [],
      "source": [
        "def coustom_data_iter(texts, labels):\n",
        "    for x, y in zip(texts, labels):\n",
        "        yield x, y"
      ],
      "id": "XtpsPcEquPE5"
    },
    {
      "cell_type": "code",
      "execution_count": null,
      "metadata": {
        "execution": {
          "iopub.execute_input": "2022-09-12T13:15:15.190171Z",
          "iopub.status.busy": "2022-09-12T13:15:15.189907Z",
          "iopub.status.idle": "2022-09-12T13:15:15.282131Z",
          "shell.execute_reply": "2022-09-12T13:15:15.281157Z",
          "shell.execute_reply.started": "2022-09-12T13:15:15.190151Z"
        },
        "tags": [],
        "id": "9bnG7DgvuPE6"
      },
      "outputs": [],
      "source": [
        "train_iter = coustom_data_iter(train_data[0].values[:], train_data[1].values[:])"
      ],
      "id": "9bnG7DgvuPE6"
    },
    {
      "cell_type": "code",
      "execution_count": null,
      "metadata": {
        "execution": {
          "iopub.execute_input": "2022-09-12T13:15:15.285082Z",
          "iopub.status.busy": "2022-09-12T13:15:15.284661Z",
          "iopub.status.idle": "2022-09-12T13:15:16.713466Z",
          "shell.execute_reply": "2022-09-12T13:15:16.712923Z",
          "shell.execute_reply.started": "2022-09-12T13:15:15.285044Z"
        },
        "tags": [],
        "id": "acfPAsz8uPE6"
      },
      "outputs": [],
      "source": [
        "from torchtext.data.utils import get_tokenizer\n",
        "from torchtext.vocab import build_vocab_from_iterator\n",
        "\n",
        "tokenizer = jieba.lcut\n",
        "\n",
        "\n",
        "def yield_tokens(data_iter):\n",
        "    for text, _ in data_iter:\n",
        "        yield tokenizer(text)\n",
        "\n",
        "\n",
        "vocab = build_vocab_from_iterator(yield_tokens(train_iter), specials=[\"<unk>\"])\n",
        "vocab.set_default_index(vocab[\"<unk>\"])"
      ],
      "id": "acfPAsz8uPE6"
    },
    {
      "cell_type": "code",
      "execution_count": null,
      "metadata": {
        "execution": {
          "iopub.execute_input": "2022-09-12T13:15:16.714279Z",
          "iopub.status.busy": "2022-09-12T13:15:16.714150Z",
          "iopub.status.idle": "2022-09-12T13:15:16.719250Z",
          "shell.execute_reply": "2022-09-12T13:15:16.718922Z",
          "shell.execute_reply.started": "2022-09-12T13:15:16.714263Z"
        },
        "scrolled": true,
        "tags": [],
        "id": "l3UuKJzNuPE7",
        "outputId": "b7e7275e-bf35-45f2-c6d9-84f14fceb926"
      },
      "outputs": [
        {
          "data": {
            "text/plain": [
              "['<unk>', '的', '我', '一下', '播放', '是', '吗', '给', '帮', '一个']"
            ]
          },
          "execution_count": 8,
          "metadata": {},
          "output_type": "execute_result"
        }
      ],
      "source": [
        "vocab.get_itos()[:10]"
      ],
      "id": "l3UuKJzNuPE7"
    },
    {
      "cell_type": "code",
      "execution_count": null,
      "metadata": {
        "execution": {
          "iopub.execute_input": "2022-09-12T13:15:16.721173Z",
          "iopub.status.busy": "2022-09-12T13:15:16.721008Z",
          "iopub.status.idle": "2022-09-12T13:15:16.786219Z",
          "shell.execute_reply": "2022-09-12T13:15:16.785348Z",
          "shell.execute_reply.started": "2022-09-12T13:15:16.721158Z"
        },
        "tags": [],
        "id": "E2OaQASwuPE7",
        "outputId": "49425bd7-0811-4627-c1c6-6805c53a368c"
      },
      "outputs": [
        {
          "data": {
            "text/plain": [
              "[2, 3, 41]"
            ]
          },
          "execution_count": 9,
          "metadata": {},
          "output_type": "execute_result"
        }
      ],
      "source": [
        "vocab(['我', '一下', '今天'])"
      ],
      "id": "E2OaQASwuPE7"
    },
    {
      "cell_type": "code",
      "execution_count": null,
      "metadata": {
        "execution": {
          "iopub.execute_input": "2022-09-12T13:15:16.788071Z",
          "iopub.status.busy": "2022-09-12T13:15:16.787636Z",
          "iopub.status.idle": "2022-09-12T13:15:16.846252Z",
          "shell.execute_reply": "2022-09-12T13:15:16.845294Z",
          "shell.execute_reply.started": "2022-09-12T13:15:16.788026Z"
        },
        "tags": [],
        "id": "Iec7hs2KuPE8"
      },
      "outputs": [],
      "source": [
        "def text_pipeline(x): return vocab(tokenizer(x))"
      ],
      "id": "Iec7hs2KuPE8"
    },
    {
      "cell_type": "code",
      "execution_count": null,
      "metadata": {
        "execution": {
          "iopub.execute_input": "2022-09-12T13:15:16.848181Z",
          "iopub.status.busy": "2022-09-12T13:15:16.847703Z",
          "iopub.status.idle": "2022-09-12T13:15:16.909702Z",
          "shell.execute_reply": "2022-09-12T13:15:16.908680Z",
          "shell.execute_reply.started": "2022-09-12T13:15:16.848133Z"
        },
        "tags": [],
        "id": "eZjsDj_buPE8"
      },
      "outputs": [],
      "source": [
        "processed_text = torch.tensor(text_pipeline('今天我们在这里'), dtype=torch.int64)"
      ],
      "id": "eZjsDj_buPE8"
    },
    {
      "cell_type": "code",
      "execution_count": null,
      "metadata": {
        "execution": {
          "iopub.execute_input": "2022-09-12T13:15:16.910724Z",
          "iopub.status.busy": "2022-09-12T13:15:16.910463Z",
          "iopub.status.idle": "2022-09-12T13:15:16.969819Z",
          "shell.execute_reply": "2022-09-12T13:15:16.969283Z",
          "shell.execute_reply.started": "2022-09-12T13:15:16.910705Z"
        },
        "tags": [],
        "id": "YNFtOxuxuPE8"
      },
      "outputs": [],
      "source": [
        "from torch.nn.utils.rnn import pad_sequence"
      ],
      "id": "YNFtOxuxuPE8"
    },
    {
      "cell_type": "code",
      "execution_count": null,
      "metadata": {
        "execution": {
          "iopub.execute_input": "2022-09-12T13:15:16.971333Z",
          "iopub.status.busy": "2022-09-12T13:15:16.971061Z",
          "iopub.status.idle": "2022-09-12T13:15:17.035377Z",
          "shell.execute_reply": "2022-09-12T13:15:17.034374Z",
          "shell.execute_reply.started": "2022-09-12T13:15:16.971314Z"
        },
        "tags": [],
        "id": "UnX0UsucuPE8"
      },
      "outputs": [],
      "source": [
        "from torch.utils.data import DataLoader\n",
        "import torch.nn.functional as F\n",
        "\n",
        "device = 'cpu'\n",
        "\n",
        "\n",
        "def collate_batch(batch, max_len=20):\n",
        "    label_list, text_list = [], []\n",
        "    for (_text, _label) in batch:\n",
        "        label_list.append(_label)\n",
        "        processed_text = torch.tensor(text_pipeline(_text), dtype=torch.int64)\n",
        "        processed_text = F.pad(processed_text, pad=[0, max_len,], mode='constant', value=0)\n",
        "        if len(processed_text) > max_len:\n",
        "            processed_text = processed_text[:max_len]\n",
        "\n",
        "        text_list.append(processed_text)\n",
        "    label_list = torch.tensor(label_list, dtype=torch.int64)\n",
        "    text_list = pad_sequence(text_list).T\n",
        "    return label_list.to(device), text_list.to(device)"
      ],
      "id": "UnX0UsucuPE8"
    },
    {
      "cell_type": "code",
      "execution_count": null,
      "metadata": {
        "execution": {
          "iopub.execute_input": "2022-09-12T13:15:22.435551Z",
          "iopub.status.busy": "2022-09-12T13:15:22.435115Z",
          "iopub.status.idle": "2022-09-12T13:15:22.446319Z",
          "shell.execute_reply": "2022-09-12T13:15:22.445529Z",
          "shell.execute_reply.started": "2022-09-12T13:15:22.435502Z"
        },
        "tags": [],
        "id": "kyMDgt7quPE9"
      },
      "outputs": [],
      "source": [
        "class BILSTM(torch.nn.Module):\n",
        "    def __init__(self, vocab_size, embedding_dim, hidden_dim, label_size):\n",
        "        super(BILSTM, self).__init__()\n",
        "        self.hidden_dim = hidden_dim\n",
        "        self.embeddings = torch.nn.Embedding(vocab_size, embedding_dim)\n",
        "        # self.embeddings.weight.data.copy_(torch.from_numpy(pretrained_w2v))\n",
        "        \n",
        "        self.lstm = torch.nn.RNN(input_size=embedding_dim, hidden_size=hidden_dim, bidirectional=False)\n",
        "        self.hidden2label = torch.nn.Linear(hidden_dim*1, label_size)\n",
        "        \n",
        "    def forward(self, sentence):\n",
        "        # print(sentence.shape)\n",
        "        sentence = torch.transpose(sentence, 1, 0)\n",
        "        # print(sentence.shape)\n",
        "        x = self.embeddings(sentence)\n",
        "        # print(x.shape)\n",
        "        lstm_out, self.hidden = self.lstm(x)\n",
        "        # print(lstm_out.shape)\n",
        "        y = self.hidden2label(lstm_out[-1,:,:])\n",
        "        return y"
      ],
      "id": "kyMDgt7quPE9"
    },
    {
      "cell_type": "code",
      "execution_count": null,
      "metadata": {
        "execution": {
          "iopub.execute_input": "2022-09-12T13:15:23.089784Z",
          "iopub.status.busy": "2022-09-12T13:15:23.089197Z",
          "iopub.status.idle": "2022-09-12T13:15:23.112977Z",
          "shell.execute_reply": "2022-09-12T13:15:23.112415Z",
          "shell.execute_reply.started": "2022-09-12T13:15:23.089733Z"
        },
        "tags": [],
        "id": "sFI1P2kJuPE9",
        "outputId": "4c7fe1fe-c79a-4e16-cf5d-7c285a3877e8"
      },
      "outputs": [
        {
          "data": {
            "text/plain": [
              "torch.Size([1, 3, 2])"
            ]
          },
          "execution_count": 15,
          "metadata": {},
          "output_type": "execute_result"
        }
      ],
      "source": [
        "torch.transpose(torch.rand((2,3,1)), 0, 2).shape"
      ],
      "id": "sFI1P2kJuPE9"
    },
    {
      "cell_type": "code",
      "execution_count": null,
      "metadata": {
        "execution": {
          "iopub.execute_input": "2022-09-12T13:15:23.331947Z",
          "iopub.status.busy": "2022-09-12T13:15:23.331531Z",
          "iopub.status.idle": "2022-09-12T13:15:23.343531Z",
          "shell.execute_reply": "2022-09-12T13:15:23.343000Z",
          "shell.execute_reply.started": "2022-09-12T13:15:23.331899Z"
        },
        "tags": [],
        "id": "DdtF5NbTuPE9"
      },
      "outputs": [],
      "source": [
        "import time\n",
        "\n",
        "def train(dataloader):\n",
        "    model.train()\n",
        "    total_acc, total_count = 0, 0\n",
        "\n",
        "    for idx, (label, text) in enumerate(dataloader):\n",
        "        optimizer.zero_grad()\n",
        "        predicted_label = model(text)\n",
        "        loss = criterion(predicted_label, label)\n",
        "        loss.backward()\n",
        "        torch.nn.utils.clip_grad_norm_(model.parameters(), 0.1)\n",
        "        optimizer.step()\n",
        "        total_acc += (predicted_label.argmax(1) == label).sum().item()\n",
        "        total_count += label.size(0)\n",
        "\n",
        "def evaluate(dataloader):\n",
        "    model.eval()\n",
        "    total_acc, total_count = 0, 0\n",
        "\n",
        "    with torch.no_grad():\n",
        "        for idx, (label, text) in enumerate(dataloader):\n",
        "            predicted_label = model(text)\n",
        "            loss = criterion(predicted_label, label)\n",
        "            total_acc += (predicted_label.argmax(1) == label).sum().item()\n",
        "            total_count += label.size(0)\n",
        "    return total_acc/total_count"
      ],
      "id": "DdtF5NbTuPE9"
    },
    {
      "cell_type": "code",
      "execution_count": null,
      "metadata": {
        "execution": {
          "iopub.execute_input": "2022-09-12T13:15:24.086052Z",
          "iopub.status.busy": "2022-09-12T13:15:24.085494Z",
          "iopub.status.idle": "2022-09-12T13:15:24.102516Z",
          "shell.execute_reply": "2022-09-12T13:15:24.101890Z",
          "shell.execute_reply.started": "2022-09-12T13:15:24.086002Z"
        },
        "tags": [],
        "id": "F6j7j4sUuPE-"
      },
      "outputs": [],
      "source": [
        "num_class = len(lbl)\n",
        "vocab_size = len(vocab)\n",
        "emsize = 100\n",
        "model = BILSTM(vocab_size, emsize, 64, num_class).to(device)"
      ],
      "id": "F6j7j4sUuPE-"
    },
    {
      "cell_type": "code",
      "execution_count": null,
      "metadata": {
        "execution": {
          "iopub.execute_input": "2022-09-12T13:15:25.084682Z",
          "iopub.status.busy": "2022-09-12T13:15:25.084258Z",
          "iopub.status.idle": "2022-09-12T13:15:25.099216Z",
          "shell.execute_reply": "2022-09-12T13:15:25.098683Z",
          "shell.execute_reply.started": "2022-09-12T13:15:25.084633Z"
        },
        "tags": [],
        "id": "cB_Yj5u4uPE-"
      },
      "outputs": [],
      "source": [
        "from torch.utils.data.dataset import random_split\n",
        "from torchtext.data.functional import to_map_style_dataset\n",
        "# Hyperparameters\n",
        "EPOCHS = 10  # epoch\n",
        "LR = 2 # learning rate\n",
        "BATCH_SIZE = 16  # batch size for training\n",
        "\n",
        "criterion = torch.nn.CrossEntropyLoss()\n",
        "optimizer = torch.optim.SGD(model.parameters(), lr=LR)\n",
        "scheduler = torch.optim.lr_scheduler.StepLR(optimizer, 5.0, gamma=0.75)\n",
        "total_accu = None\n",
        "\n",
        "train_iter = coustom_data_iter(train_data[0].values[:], train_data[1].values[:])\n",
        "train_dataset = to_map_style_dataset(train_iter)\n",
        "\n",
        "num_train = int(len(train_dataset) * 0.75)\n",
        "split_train_, split_valid_ = random_split(train_dataset, [num_train, len(train_dataset) - num_train])\n",
        "\n",
        "train_dataloader = DataLoader(split_train_, batch_size=BATCH_SIZE,\n",
        "                              shuffle=True, collate_fn=collate_batch)\n",
        "valid_dataloader = DataLoader(split_valid_, batch_size=BATCH_SIZE,\n",
        "                              shuffle=True, collate_fn=collate_batch)"
      ],
      "id": "cB_Yj5u4uPE-"
    },
    {
      "cell_type": "code",
      "execution_count": null,
      "metadata": {
        "execution": {
          "iopub.execute_input": "2022-09-12T13:15:25.267164Z",
          "iopub.status.busy": "2022-09-12T13:15:25.266740Z",
          "iopub.status.idle": "2022-09-12T13:15:25.279072Z",
          "shell.execute_reply": "2022-09-12T13:15:25.278337Z",
          "shell.execute_reply.started": "2022-09-12T13:15:25.267116Z"
        },
        "tags": [],
        "id": "NwzUkfffuPE-",
        "outputId": "01cfb8e6-6737-4d27-f57a-239729edb0ee"
      },
      "outputs": [
        {
          "data": {
            "text/plain": [
              "torch.Size([16, 12])"
            ]
          },
          "execution_count": 19,
          "metadata": {},
          "output_type": "execute_result"
        }
      ],
      "source": [
        "for (label, text) in train_dataloader:\n",
        "    break\n",
        "    \n",
        "model(text).shape\n",
        "# 12, 16, 100\n",
        "# sequence length * batch size * embedding dim"
      ],
      "id": "NwzUkfffuPE-"
    },
    {
      "cell_type": "code",
      "execution_count": null,
      "metadata": {
        "execution": {
          "iopub.execute_input": "2022-09-12T13:15:26.088986Z",
          "iopub.status.busy": "2022-09-12T13:15:26.088430Z",
          "iopub.status.idle": "2022-09-12T13:15:57.098280Z",
          "shell.execute_reply": "2022-09-12T13:15:57.097824Z",
          "shell.execute_reply.started": "2022-09-12T13:15:26.088937Z"
        },
        "tags": [],
        "id": "Q4gpWWzSuPE-",
        "outputId": "ff1ad5ea-5917-493a-964e-67941ebbef16"
      },
      "outputs": [
        {
          "name": "stdout",
          "output_type": "stream",
          "text": [
            "| end of epoch   1 | time:  3.17s | valid accuracy    0.100 \n",
            "| end of epoch   2 | time:  3.12s | valid accuracy    0.104 \n",
            "| end of epoch   3 | time:  3.08s | valid accuracy    0.106 \n",
            "| end of epoch   4 | time:  3.08s | valid accuracy    0.117 \n",
            "| end of epoch   5 | time:  3.07s | valid accuracy    0.116 \n",
            "| end of epoch   6 | time:  3.09s | valid accuracy    0.124 \n",
            "| end of epoch   7 | time:  3.08s | valid accuracy    0.106 \n",
            "| end of epoch   8 | time:  3.10s | valid accuracy    0.135 \n",
            "| end of epoch   9 | time:  3.10s | valid accuracy    0.129 \n",
            "| end of epoch  10 | time:  3.10s | valid accuracy    0.181 \n"
          ]
        }
      ],
      "source": [
        "for epoch in range(1, EPOCHS + 1):\n",
        "    epoch_start_time = time.time()\n",
        "    train(train_dataloader)\n",
        "    accu_val = evaluate(valid_dataloader)\n",
        "    if total_accu is not None and total_accu > accu_val:\n",
        "        scheduler.step()\n",
        "    else:\n",
        "        total_accu = accu_val\n",
        "    \n",
        "    print('| end of epoch {:3d} | time: {:5.2f}s | '\n",
        "          'valid accuracy {:8.3f} '.format(epoch,\n",
        "                                           time.time() - epoch_start_time,\n",
        "                                           accu_val))"
      ],
      "id": "Q4gpWWzSuPE-"
    },
    {
      "cell_type": "markdown",
      "metadata": {
        "id": "ETDBgfCNuPE_"
      },
      "source": [
        "## 问题1：LSTM尝试\n",
        "\n",
        "阅读上述文本分类的代码，找到可以替换LSTM层的位置进行替换。\n",
        "- 替换之后模型的精度有提高吗？\n",
        "- 替换之后模型的训练速度有提高吗？"
      ],
      "id": "ETDBgfCNuPE_"
    },
    {
      "cell_type": "code",
      "execution_count": null,
      "metadata": {
        "execution": {
          "iopub.execute_input": "2022-09-12T13:16:50.324568Z",
          "iopub.status.busy": "2022-09-12T13:16:50.324155Z",
          "iopub.status.idle": "2022-09-12T13:16:50.331006Z",
          "shell.execute_reply": "2022-09-12T13:16:50.330325Z",
          "shell.execute_reply.started": "2022-09-12T13:16:50.324519Z"
        },
        "tags": [],
        "id": "F8jMBNEsuPE_"
      },
      "outputs": [],
      "source": [
        "class BILSTM(torch.nn.Module):\n",
        "    def __init__(self, vocab_size, embedding_dim, hidden_dim, label_size):\n",
        "        super(BILSTM, self).__init__()\n",
        "        self.hidden_dim = hidden_dim\n",
        "        self.embeddings = torch.nn.Embedding(vocab_size, embedding_dim)\n",
        "        # self.embeddings.weight.data.copy_(torch.from_numpy(pretrained_w2v))\n",
        "        \n",
        "        # 修改这一行\n",
        "        self.lstm = torch.nn.LSTM(input_size=embedding_dim, hidden_size=hidden_dim, bidirectional=False)\n",
        "        self.hidden2label = torch.nn.Linear(hidden_dim*1, label_size)\n",
        "        \n",
        "    def forward(self, sentence):\n",
        "        # print(sentence.shape)\n",
        "        sentence = torch.transpose(sentence, 1, 0)\n",
        "        # print(sentence.shape)\n",
        "        x = self.embeddings(sentence)\n",
        "        # print(x.shape)\n",
        "        lstm_out, self.hidden = self.lstm(x)\n",
        "        # print(lstm_out.shape)\n",
        "        y = self.hidden2label(lstm_out[-1,:,:])\n",
        "        return y"
      ],
      "id": "F8jMBNEsuPE_"
    },
    {
      "cell_type": "code",
      "execution_count": null,
      "metadata": {
        "execution": {
          "iopub.execute_input": "2022-09-12T13:16:51.083635Z",
          "iopub.status.busy": "2022-09-12T13:16:51.083213Z",
          "iopub.status.idle": "2022-09-12T13:16:51.097817Z",
          "shell.execute_reply": "2022-09-12T13:16:51.097132Z",
          "shell.execute_reply.started": "2022-09-12T13:16:51.083589Z"
        },
        "tags": [],
        "id": "zU6QRln9uPE_"
      },
      "outputs": [],
      "source": [
        "num_class = len(lbl)\n",
        "vocab_size = len(vocab)\n",
        "emsize = 100\n",
        "model = BILSTM(vocab_size, emsize, 64, num_class).to(device)\n",
        "\n",
        "criterion = torch.nn.CrossEntropyLoss()\n",
        "optimizer = torch.optim.SGD(model.parameters(), lr=LR)\n",
        "scheduler = torch.optim.lr_scheduler.StepLR(optimizer, 5.0, gamma=0.75)"
      ],
      "id": "zU6QRln9uPE_"
    },
    {
      "cell_type": "code",
      "execution_count": null,
      "metadata": {
        "execution": {
          "iopub.execute_input": "2022-09-12T13:16:51.099215Z",
          "iopub.status.busy": "2022-09-12T13:16:51.099067Z",
          "iopub.status.idle": "2022-09-12T13:18:28.744548Z",
          "shell.execute_reply": "2022-09-12T13:18:28.744127Z",
          "shell.execute_reply.started": "2022-09-12T13:16:51.099198Z"
        },
        "tags": [],
        "id": "j18nC0I-uPE_",
        "outputId": "cd491177-8394-49bf-d5a1-3d2a55f31b7b"
      },
      "outputs": [
        {
          "name": "stdout",
          "output_type": "stream",
          "text": [
            "| end of epoch   1 | time:  9.73s | valid accuracy    0.363 \n",
            "| end of epoch   2 | time:  9.75s | valid accuracy    0.625 \n",
            "| end of epoch   3 | time:  9.94s | valid accuracy    0.699 \n",
            "| end of epoch   4 | time:  9.81s | valid accuracy    0.742 \n",
            "| end of epoch   5 | time:  9.70s | valid accuracy    0.765 \n",
            "| end of epoch   6 | time:  9.66s | valid accuracy    0.776 \n",
            "| end of epoch   7 | time:  9.82s | valid accuracy    0.782 \n",
            "| end of epoch   8 | time:  9.67s | valid accuracy    0.797 \n",
            "| end of epoch   9 | time:  9.73s | valid accuracy    0.807 \n",
            "| end of epoch  10 | time:  9.78s | valid accuracy    0.813 \n"
          ]
        }
      ],
      "source": [
        "for epoch in range(1, EPOCHS + 1):\n",
        "    epoch_start_time = time.time()\n",
        "    train(train_dataloader)\n",
        "    accu_val = evaluate(valid_dataloader)\n",
        "    if total_accu is not None and total_accu > accu_val:\n",
        "        scheduler.step()\n",
        "    else:\n",
        "        total_accu = accu_val\n",
        "    \n",
        "    print('| end of epoch {:3d} | time: {:5.2f}s | '\n",
        "          'valid accuracy {:8.3f} '.format(epoch,\n",
        "                                           time.time() - epoch_start_time,\n",
        "                                           accu_val))"
      ],
      "id": "j18nC0I-uPE_"
    },
    {
      "cell_type": "markdown",
      "metadata": {
        "id": "xihQ8GvMuPE_"
      },
      "source": [
        "> LSTM速度慢很多，是RNN的三倍，但收敛速度和精度更好。"
      ],
      "id": "xihQ8GvMuPE_"
    },
    {
      "cell_type": "markdown",
      "metadata": {
        "id": "9IoFgHoAuPE_"
      },
      "source": [
        "## 问题2：LSTM深入\n",
        "\n",
        "- 首先将LSTM设置为双向LSTM，修改后续对应层的维度，从新训练模型，记录验证集精度；\n",
        "- 对比使用句子一个token和最后一个token的特征分别用于文本的精度。"
      ],
      "id": "9IoFgHoAuPE_"
    },
    {
      "cell_type": "code",
      "execution_count": null,
      "metadata": {
        "execution": {
          "iopub.execute_input": "2022-09-12T13:20:28.543926Z",
          "iopub.status.busy": "2022-09-12T13:20:28.543508Z",
          "iopub.status.idle": "2022-09-12T13:20:28.551106Z",
          "shell.execute_reply": "2022-09-12T13:20:28.550576Z",
          "shell.execute_reply.started": "2022-09-12T13:20:28.543878Z"
        },
        "id": "YISUHzf3uPE_"
      },
      "outputs": [],
      "source": [
        "class BILSTM(torch.nn.Module):\n",
        "    def __init__(self, vocab_size, embedding_dim, hidden_dim, label_size):\n",
        "        super(BILSTM, self).__init__()\n",
        "        self.hidden_dim = hidden_dim\n",
        "        self.embeddings = torch.nn.Embedding(vocab_size, embedding_dim)\n",
        "        # self.embeddings.weight.data.copy_(torch.from_numpy(pretrained_w2v))\n",
        "        \n",
        "        # 修改下面，bidirectional 为True为双向LSTM\n",
        "        self.lstm = torch.nn.LSTM(input_size=embedding_dim, hidden_size=hidden_dim, bidirectional=True)\n",
        "        self.hidden2label = torch.nn.Linear(hidden_dim*2, label_size)\n",
        "        \n",
        "    def forward(self, sentence):\n",
        "        # print(sentence.shape)\n",
        "        sentence = torch.transpose(sentence, 1, 0)\n",
        "        # print(sentence.shape)\n",
        "        x = self.embeddings(sentence)\n",
        "        # print(x.shape)\n",
        "        lstm_out, self.hidden = self.lstm(x)\n",
        "        # print(lstm_out.shape)\n",
        "        \n",
        "        # 修改这里对应token输出的选择，我们先尝试最后一个token对应的输出\n",
        "        y = self.hidden2label(lstm_out[-1,:,:])\n",
        "        return y"
      ],
      "id": "YISUHzf3uPE_"
    },
    {
      "cell_type": "code",
      "execution_count": null,
      "metadata": {
        "execution": {
          "iopub.execute_input": "2022-09-12T13:20:29.083586Z",
          "iopub.status.busy": "2022-09-12T13:20:29.083020Z",
          "iopub.status.idle": "2022-09-12T13:20:29.098454Z",
          "shell.execute_reply": "2022-09-12T13:20:29.097771Z",
          "shell.execute_reply.started": "2022-09-12T13:20:29.083535Z"
        },
        "id": "HMHuX-6MuPFA"
      },
      "outputs": [],
      "source": [
        "num_class = len(lbl)\n",
        "vocab_size = len(vocab)\n",
        "emsize = 100\n",
        "model = BILSTM(vocab_size, emsize, 64, num_class).to(device)\n",
        "\n",
        "criterion = torch.nn.CrossEntropyLoss()\n",
        "optimizer = torch.optim.SGD(model.parameters(), lr=LR)\n",
        "scheduler = torch.optim.lr_scheduler.StepLR(optimizer, 5.0, gamma=0.75)"
      ],
      "id": "HMHuX-6MuPFA"
    },
    {
      "cell_type": "code",
      "execution_count": null,
      "metadata": {
        "execution": {
          "iopub.execute_input": "2022-09-12T13:20:32.362170Z",
          "iopub.status.busy": "2022-09-12T13:20:32.361598Z",
          "iopub.status.idle": "2022-09-12T13:23:30.150525Z",
          "shell.execute_reply": "2022-09-12T13:23:30.150105Z",
          "shell.execute_reply.started": "2022-09-12T13:20:32.362120Z"
        },
        "id": "hhndCYoDuPFA",
        "outputId": "c9204630-d9a0-42bc-b485-8abb07359efa"
      },
      "outputs": [
        {
          "name": "stdout",
          "output_type": "stream",
          "text": [
            "| end of epoch   1 | time: 18.34s | valid accuracy    0.467 \n",
            "| end of epoch   2 | time: 18.11s | valid accuracy    0.606 \n",
            "| end of epoch   3 | time: 18.23s | valid accuracy    0.705 \n",
            "| end of epoch   4 | time: 17.69s | valid accuracy    0.743 \n",
            "| end of epoch   5 | time: 17.87s | valid accuracy    0.767 \n",
            "| end of epoch   6 | time: 17.18s | valid accuracy    0.781 \n",
            "| end of epoch   7 | time: 17.95s | valid accuracy    0.796 \n",
            "| end of epoch   8 | time: 17.66s | valid accuracy    0.802 \n",
            "| end of epoch   9 | time: 17.30s | valid accuracy    0.801 \n",
            "| end of epoch  10 | time: 17.46s | valid accuracy    0.803 \n"
          ]
        }
      ],
      "source": [
        "for epoch in range(1, EPOCHS + 1):\n",
        "    epoch_start_time = time.time()\n",
        "    train(train_dataloader)\n",
        "    accu_val = evaluate(valid_dataloader)\n",
        "    if total_accu is not None and total_accu > accu_val:\n",
        "        scheduler.step()\n",
        "    else:\n",
        "        total_accu = accu_val\n",
        "    \n",
        "    print('| end of epoch {:3d} | time: {:5.2f}s | '\n",
        "          'valid accuracy {:8.3f} '.format(epoch,\n",
        "                                           time.time() - epoch_start_time,\n",
        "                                           accu_val))"
      ],
      "id": "hhndCYoDuPFA"
    },
    {
      "cell_type": "code",
      "execution_count": null,
      "metadata": {
        "execution": {
          "iopub.execute_input": "2022-09-12T13:25:54.134104Z",
          "iopub.status.busy": "2022-09-12T13:25:54.133458Z",
          "iopub.status.idle": "2022-09-12T13:25:54.142754Z",
          "shell.execute_reply": "2022-09-12T13:25:54.142253Z",
          "shell.execute_reply.started": "2022-09-12T13:25:54.134054Z"
        },
        "tags": [],
        "id": "1nBUhvP3uPFA"
      },
      "outputs": [],
      "source": [
        "class BILSTM(torch.nn.Module):\n",
        "    def __init__(self, vocab_size, embedding_dim, hidden_dim, label_size):\n",
        "        super(BILSTM, self).__init__()\n",
        "        self.hidden_dim = hidden_dim\n",
        "        self.embeddings = torch.nn.Embedding(vocab_size, embedding_dim)\n",
        "        # self.embeddings.weight.data.copy_(torch.from_numpy(pretrained_w2v))\n",
        "        \n",
        "        # 修改下面，bidirectional 为True为双向LSTM\n",
        "        self.lstm = torch.nn.LSTM(input_size=embedding_dim, hidden_size=hidden_dim, bidirectional=True)\n",
        "        self.hidden2label = torch.nn.Linear(hidden_dim*2, label_size)\n",
        "        \n",
        "    def forward(self, sentence):\n",
        "        # print(sentence.shape)\n",
        "        sentence = torch.transpose(sentence, 1, 0)\n",
        "        # print(sentence.shape)\n",
        "        x = self.embeddings(sentence)\n",
        "        # print(x.shape)\n",
        "        lstm_out, self.hidden = self.lstm(x)\n",
        "        # print(lstm_out.shape)\n",
        "        \n",
        "        # 修改这里对应token输出的选择，我们尝试第一个token对应的输出\n",
        "        y = self.hidden2label(lstm_out[0,:,:])\n",
        "        return y"
      ],
      "id": "1nBUhvP3uPFA"
    },
    {
      "cell_type": "code",
      "execution_count": null,
      "metadata": {
        "execution": {
          "iopub.execute_input": "2022-09-12T13:25:55.138862Z",
          "iopub.status.busy": "2022-09-12T13:25:55.138321Z",
          "iopub.status.idle": "2022-09-12T13:25:55.153758Z",
          "shell.execute_reply": "2022-09-12T13:25:55.153148Z",
          "shell.execute_reply.started": "2022-09-12T13:25:55.138813Z"
        },
        "id": "TDF-0HX_uPFA"
      },
      "outputs": [],
      "source": [
        "num_class = len(lbl)\n",
        "vocab_size = len(vocab)\n",
        "emsize = 100\n",
        "model = BILSTM(vocab_size, emsize, 64, num_class).to(device)\n",
        "\n",
        "criterion = torch.nn.CrossEntropyLoss()\n",
        "optimizer = torch.optim.SGD(model.parameters(), lr=LR)\n",
        "scheduler = torch.optim.lr_scheduler.StepLR(optimizer, 5.0, gamma=0.75)"
      ],
      "id": "TDF-0HX_uPFA"
    },
    {
      "cell_type": "code",
      "execution_count": null,
      "metadata": {
        "execution": {
          "iopub.execute_input": "2022-09-12T13:25:56.136356Z",
          "iopub.status.busy": "2022-09-12T13:25:56.135937Z",
          "iopub.status.idle": "2022-09-12T13:28:52.867226Z",
          "shell.execute_reply": "2022-09-12T13:28:52.866817Z",
          "shell.execute_reply.started": "2022-09-12T13:25:56.136308Z"
        },
        "id": "XsXwbpFRuPFA",
        "outputId": "c1d44377-5093-4d4d-9fbe-015d7fc76d6d"
      },
      "outputs": [
        {
          "name": "stdout",
          "output_type": "stream",
          "text": [
            "| end of epoch   1 | time: 17.59s | valid accuracy    0.685 \n",
            "| end of epoch   2 | time: 17.43s | valid accuracy    0.784 \n",
            "| end of epoch   3 | time: 17.34s | valid accuracy    0.811 \n",
            "| end of epoch   4 | time: 17.35s | valid accuracy    0.833 \n",
            "| end of epoch   5 | time: 17.84s | valid accuracy    0.834 \n",
            "| end of epoch   6 | time: 17.70s | valid accuracy    0.845 \n",
            "| end of epoch   7 | time: 18.25s | valid accuracy    0.850 \n",
            "| end of epoch   8 | time: 18.01s | valid accuracy    0.847 \n",
            "| end of epoch   9 | time: 17.88s | valid accuracy    0.851 \n",
            "| end of epoch  10 | time: 17.31s | valid accuracy    0.850 \n"
          ]
        }
      ],
      "source": [
        "for epoch in range(1, EPOCHS + 1):\n",
        "    epoch_start_time = time.time()\n",
        "    train(train_dataloader)\n",
        "    accu_val = evaluate(valid_dataloader)\n",
        "    if total_accu is not None and total_accu > accu_val:\n",
        "        scheduler.step()\n",
        "    else:\n",
        "        total_accu = accu_val\n",
        "    \n",
        "    print('| end of epoch {:3d} | time: {:5.2f}s | '\n",
        "          'valid accuracy {:8.3f} '.format(epoch,\n",
        "                                           time.time() - epoch_start_time,\n",
        "                                           accu_val))"
      ],
      "id": "XsXwbpFRuPFA"
    },
    {
      "cell_type": "markdown",
      "metadata": {
        "id": "9Udbixk9uPFA"
      },
      "source": [
        "> token的选择对模型的速度没有影响，但对模型的精度存在影响。如果选择第一个token对应的输出精度更高，因为字符串存在pad操作。“"
      ],
      "id": "9Udbixk9uPFA"
    }
  ],
  "metadata": {
    "kernelspec": {
      "display_name": "Python 3",
      "language": "python",
      "name": "python3"
    },
    "language_info": {
      "codemirror_mode": {
        "name": "ipython",
        "version": 3
      },
      "file_extension": ".py",
      "mimetype": "text/x-python",
      "name": "python",
      "nbconvert_exporter": "python",
      "pygments_lexer": "ipython3",
      "version": "3.7.5"
    },
    "colab": {
      "provenance": [],
      "include_colab_link": true
    }
  },
  "nbformat": 4,
  "nbformat_minor": 5
}